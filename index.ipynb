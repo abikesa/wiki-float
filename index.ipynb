{
 "cells": [
  {
   "cell_type": "markdown",
   "id": "f9f7079a",
   "metadata": {},
   "source": [
    "```{raw} html\n",
    "<style>\n",
    "/* Wikipedia-style infobox */\n",
    ".wiki-frame {\n",
    "    float: right;\n",
    "    width: 35%;\n",
    "    margin-left: 15px;\n",
    "    border: 1px solid #a2a9b1;\n",
    "    padding: 10px;\n",
    "    background-color: #f8f9fa;\n",
    "    font-size: 14px;\n",
    "    font-family: sans-serif;\n",
    "    box-shadow: 0 2px 4px rgba(0,0,0,0.1);\n",
    "}\n",
    "\n",
    ".wiki-frame h3 {\n",
    "    background-color: #eaecf0;\n",
    "    color: #000;\n",
    "    text-align: center;\n",
    "    padding: 5px;\n",
    "    font-size: 16px;\n",
    "    font-weight: bold;\n",
    "    border-bottom: 2px solid #a2a9b1;\n",
    "    margin-top: 0;\n",
    "}\n",
    "\n",
    ".wiki-frame pre {\n",
    "    white-space: pre-wrap;\n",
    "    background-color: #fff;\n",
    "    padding: 8px;\n",
    "    border: 1px solid #a2a9b1;\n",
    "    font-family: monospace;\n",
    "    overflow-x: auto;\n",
    "}\n",
    "\n",
    "/* Make the frame responsive */\n",
    "@media (max-width: 768px) {\n",
    "    .wiki-frame {\n",
    "        float: none;\n",
    "        width: 100%;\n",
    "        margin-left: 0;\n",
    "    }\n",
    "}\n",
    "</style>\n",
    "\n",
    "<!-- Wikipedia-style Code Box -->\n",
    "<div class=\"wiki-frame\">\n"
   ]
  },
  {
   "cell_type": "code",
   "execution_count": null,
   "id": "25429e15",
   "metadata": {},
   "outputs": [],
   "source": []
  },
  {
   "cell_type": "markdown",
   "id": "82e35f01",
   "metadata": {},
   "source": [
    "\n",
    "<img src=\"https://upload.wikimedia.org/wikipedia/commons/6/64/Symbiotic_relationships_diagram.svg\" alt=\"Eco-Green QR Code\" width=\"100%\">\n",
    "<div class=\"float-right\" style=\"float:none;width:100%;margin-left:0;border:none;padding:0;background:none;\">\n",
    "  <a class=\"image-bubble layered-icon\" href=\"https://upload.wikimedia.org/wikipedia/commons/6/64/Symbiotic_relationships_diagram.svg\" target=\"_blank\" title=\"Click to magnify\">\n",
    "    <div class=\"large-icon\"></div>\n",
    "    <div class=\"small-icon\"></div>\n",
    "  </a>\n",
    "\n",
    "```{figure} https://www.ledr.com/colours/white.jpg\n",
    "---\n",
    "width: 1\n",
    "height: 1\n",
    "name: wiki/symbiosis\n",
    "---\n",
    "Consider pretext, subtext, text, context, metatext. It is <b>text</b> in the mode of holy-writ that makes faustian bargains vs. islamic finance the ultimate bifurcation in how systems are engineered.\n",
    "```\n",
    "\n",
    "</div>\n",
    "</div>"
   ]
  }
 ],
 "metadata": {
  "kernelspec": {
   "display_name": "myenv",
   "language": "python",
   "name": "python3"
  },
  "language_info": {
   "codemirror_mode": {
    "name": "ipython",
    "version": 3
   },
   "file_extension": ".py",
   "mimetype": "text/x-python",
   "name": "python",
   "nbconvert_exporter": "python",
   "pygments_lexer": "ipython3",
   "version": "3.11.11"
  }
 },
 "nbformat": 4,
 "nbformat_minor": 5
}
